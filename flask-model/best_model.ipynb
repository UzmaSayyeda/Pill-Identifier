{
 "cells": [
  {
   "cell_type": "code",
   "execution_count": 5,
   "id": "a20b128d",
   "metadata": {},
   "outputs": [],
   "source": [
    "import os\n",
    "import boto3\n",
    "import numpy as np\n",
    "import pandas as pd\n",
    "\n",
    "import cv2 as cv\n",
    "import matplotlib.pyplot as plt\n",
    "import matplotlib.image as mpimg\n",
    "import random\n",
    "import matplotlib.pyplot as plt\n",
    "import numpy as np\n",
    "import PIL\n",
    "import tensorflow as tf\n",
    "\n",
    "import splitfolders\n",
    "from keras.preprocessing import image\n",
    "from tensorflow.keras.preprocessing.image import ImageDataGenerator\n",
    "\n",
    "from tensorflow import keras\n",
    "from tensorflow.keras import layers\n",
    "from tensorflow.keras.models import Sequential\n",
    "from tensorflow.keras.applications.vgg16 import VGG16\n",
    "from tensorflow.keras.applications.inception_v3 import InceptionV3\n",
    "from tensorflow.keras.applications import ResNet50\n",
    "from tensorflow.keras.applications import MobileNet\n",
    "\n",
    "from keras.layers import Conv2D, MaxPooling2D\n",
    "from keras.layers import Activation, Dropout, Flatten, Dense\n",
    "from tensorflow.keras.layers import Dense, Conv2D, MaxPooling2D, GlobalAveragePooling2D"
   ]
  },
  {
   "cell_type": "markdown",
   "id": "0841ed99",
   "metadata": {},
   "source": [
    "## Preprocessing"
   ]
  },
  {
   "cell_type": "code",
   "execution_count": 6,
   "id": "cdb253ed",
   "metadata": {},
   "outputs": [],
   "source": [
    "# paths\n",
    "local_drug_directory = 'local_drug_directory'\n",
    "train_dir = \"output/train/\"\n",
    "valid_dir = \"output/val/\""
   ]
  },
  {
   "cell_type": "code",
   "execution_count": 7,
   "id": "df13ea86",
   "metadata": {},
   "outputs": [],
   "source": [
    "# define loading parameters\n",
    "img_height = 224\n",
    "img_width = 224\n",
    "batch_size = 1"
   ]
  },
  {
   "cell_type": "code",
   "execution_count": 8,
   "id": "d84d46b6",
   "metadata": {},
   "outputs": [],
   "source": [
    "train_datagen = ImageDataGenerator(rescale=1./255)\n",
    "valid_datagen = ImageDataGenerator(rescale=1./255)"
   ]
  },
  {
   "cell_type": "code",
   "execution_count": 9,
   "id": "38d565e0",
   "metadata": {},
   "outputs": [
    {
     "name": "stdout",
     "output_type": "stream",
     "text": [
      "Found 437 images belonging to 23 classes.\n"
     ]
    }
   ],
   "source": [
    "# using ImageDataGenerator and flow_from_directory to preprocess the images\n",
    "train_generator = train_datagen.flow_from_directory(train_dir,\n",
    "                                                    target_size=(img_width,img_height),\n",
    "                                                    batch_size=batch_size,\n",
    "                                                    shuffle=True,\n",
    "                                                    class_mode=\"categorical\"\n",
    "                                                   )"
   ]
  },
  {
   "cell_type": "code",
   "execution_count": 10,
   "id": "2f9d9257",
   "metadata": {},
   "outputs": [
    {
     "name": "stdout",
     "output_type": "stream",
     "text": [
      "Found 46 images belonging to 23 classes.\n"
     ]
    }
   ],
   "source": [
    "# using ImageDataGenerator and flow_from_directory to preprocess the images\n",
    "validation_generator = valid_datagen.flow_from_directory(valid_dir,\n",
    "                                                    target_size=(img_width,img_height),\n",
    "                                                    batch_size=batch_size,\n",
    "                                                    shuffle=True,\n",
    "                                                    class_mode=\"categorical\"\n",
    "                                                   )"
   ]
  },
  {
   "cell_type": "code",
   "execution_count": 11,
   "id": "b8e22506",
   "metadata": {},
   "outputs": [
    {
     "data": {
      "text/plain": [
       "dict_keys(['Amoxicillin 500 mg', 'Apixaban 2.5 mg', 'Aprepitant 80 mg', 'Atomoxetine 25 mg', 'Calcitriol 0.00025', 'Prasugrel 10 MG', 'Ramipril 5 MG', 'Saxagliptin 5 MG', 'Sitagliptin 50 MG', 'Tadalafil 5 MG', 'carvedilol 3.125', 'celecoxib 200', 'duloxetine 30', 'eltrombopag 25', 'metformin_500', 'montelukast-10', 'mycophenolate-250', 'omeprazole_40', 'oseltamivir-45', 'pantaprazole-40', 'pitavastatin_1', 'prednisone_5', 'sertraline_25'])"
      ]
     },
     "execution_count": 11,
     "metadata": {},
     "output_type": "execute_result"
    }
   ],
   "source": [
    "# to extract the class names for label\n",
    "class_names = train_generator.class_indices.keys()\n",
    "class_names"
   ]
  },
  {
   "cell_type": "code",
   "execution_count": null,
   "id": "18cfa45a",
   "metadata": {},
   "outputs": [],
   "source": [
    "sample_names = []\n",
    "training_samples = []\n",
    "\n",
    "[training_samples.append(list(train_generator.classes).count(x)) for x in range(0,23)]\n",
    "\n",
    "# Get only drug name, not dosage\n",
    "for x in list(class_names):\n",
    "    drug = x.split()[0]\n",
    "    \n",
    "    if drug == x:\n",
    "        drug = x.split(sep = '_')[0]\n",
    "        \n",
    "    if drug == x:\n",
    "        drug = x.split(sep = '-')[0]\n",
    "    \n",
    "    sample_names.append(drug.capitalize())\n",
    "\n",
    "\n",
    "training_sample_size = pd.DataFrame({'Drug Name': sample_names,\n",
    "                                    'count': training_samples})\n",
    "training_sample_size"
   ]
  },
  {
   "cell_type": "markdown",
   "id": "8e4a0dda",
   "metadata": {},
   "source": [
    "-------\n",
    "## Using MobileNet to train our data\n",
    "-------"
   ]
  },
  {
   "cell_type": "code",
   "execution_count": 11,
   "id": "d48d96dc",
   "metadata": {},
   "outputs": [],
   "source": [
    "# define a base model with non trainable params\n",
    "base_model = MobileNet(weights = 'imagenet', include_top=False, input_shape=(224, 224, 3))\n",
    "base_model.trainable = False\n",
    "base_model.summary()\n"
   ]
  },
  {
   "cell_type": "code",
   "execution_count": 12,
   "id": "1558243a",
   "metadata": {},
   "outputs": [
    {
     "name": "stdout",
     "output_type": "stream",
     "text": [
      "Model: \"sequential\"\n",
      "_________________________________________________________________\n",
      " Layer (type)                Output Shape              Param #   \n",
      "=================================================================\n",
      " mobilenet_1.00_224 (Functi  (None, 7, 7, 1024)        3228864   \n",
      " onal)                                                           \n",
      "                                                                 \n",
      " global_average_pooling2d (  (None, 1024)              0         \n",
      " GlobalAveragePooling2D)                                         \n",
      "                                                                 \n",
      " dense (Dense)               (None, 23)                23575     \n",
      "                                                                 \n",
      "=================================================================\n",
      "Total params: 3252439 (12.41 MB)\n",
      "Trainable params: 3230551 (12.32 MB)\n",
      "Non-trainable params: 21888 (85.50 KB)\n",
      "_________________________________________________________________\n"
     ]
    }
   ],
   "source": [
    "# set up our model and layers\n",
    "model = Sequential()\n",
    "\n",
    "model.add(base_model)\n",
    "model.add(GlobalAveragePooling2D())\n",
    "model.add(Dense(23, activation=\"softmax\"))\n",
    "model.summary()"
   ]
  },
  {
   "cell_type": "code",
   "execution_count": 13,
   "id": "d303da97",
   "metadata": {},
   "outputs": [],
   "source": [
    "# compile the model\n",
    "model.compile(optimizer='adam',\n",
    "              loss=\"categorical_crossentropy\",\n",
    "              metrics=['accuracy'])"
   ]
  },
  {
   "cell_type": "code",
   "execution_count": null,
   "id": "b539712a",
   "metadata": {},
   "outputs": [
    {
     "name": "stdout",
     "output_type": "stream",
     "text": [
      "Epoch 1/2\n",
      " 78/437 [====>.........................] - ETA: 55s - loss: 3.8577 - accuracy: 0.2308"
     ]
    }
   ],
   "source": [
    "# fit the model\n",
    "model.fit(train_generator, epochs=2)"
   ]
  },
  {
   "cell_type": "code",
   "execution_count": null,
   "id": "646d685f",
   "metadata": {},
   "outputs": [],
   "source": [
    "# display training loss and training accuracy\n",
    "model_loss, model_accuracy = model.evaluate(validation_generator, verbose=2)\n",
    "print(f\" loss : {round(model_loss)*100}%, accuray : {round(model_accuracy,2)*100}%\")"
   ]
  },
  {
   "cell_type": "code",
   "execution_count": null,
   "id": "2435f419",
   "metadata": {},
   "outputs": [],
   "source": [
    "# save the model\n",
    "# model.save('MobileNet_02.keras')"
   ]
  },
  {
   "cell_type": "markdown",
   "id": "6a47d2eb",
   "metadata": {},
   "source": [
    "# Training Sample Sizes"
   ]
  },
  {
   "cell_type": "code",
   "execution_count": 36,
   "id": "00d3c5b4",
   "metadata": {},
   "outputs": [
    {
     "data": {
      "text/html": [
       "<div>\n",
       "<style scoped>\n",
       "    .dataframe tbody tr th:only-of-type {\n",
       "        vertical-align: middle;\n",
       "    }\n",
       "\n",
       "    .dataframe tbody tr th {\n",
       "        vertical-align: top;\n",
       "    }\n",
       "\n",
       "    .dataframe thead th {\n",
       "        text-align: right;\n",
       "    }\n",
       "</style>\n",
       "<table border=\"1\" class=\"dataframe\">\n",
       "  <thead>\n",
       "    <tr style=\"text-align: right;\">\n",
       "      <th></th>\n",
       "      <th>Drug Name</th>\n",
       "      <th>count</th>\n",
       "    </tr>\n",
       "  </thead>\n",
       "  <tbody>\n",
       "    <tr>\n",
       "      <th>0</th>\n",
       "      <td>Amoxicillin</td>\n",
       "      <td>19</td>\n",
       "    </tr>\n",
       "    <tr>\n",
       "      <th>1</th>\n",
       "      <td>Apixaban</td>\n",
       "      <td>19</td>\n",
       "    </tr>\n",
       "    <tr>\n",
       "      <th>2</th>\n",
       "      <td>Aprepitant</td>\n",
       "      <td>19</td>\n",
       "    </tr>\n",
       "    <tr>\n",
       "      <th>3</th>\n",
       "      <td>Atomoxetine</td>\n",
       "      <td>19</td>\n",
       "    </tr>\n",
       "    <tr>\n",
       "      <th>4</th>\n",
       "      <td>Calcitriol</td>\n",
       "      <td>19</td>\n",
       "    </tr>\n",
       "    <tr>\n",
       "      <th>5</th>\n",
       "      <td>Prasugrel</td>\n",
       "      <td>19</td>\n",
       "    </tr>\n",
       "    <tr>\n",
       "      <th>6</th>\n",
       "      <td>Ramipril</td>\n",
       "      <td>19</td>\n",
       "    </tr>\n",
       "    <tr>\n",
       "      <th>7</th>\n",
       "      <td>Saxagliptin</td>\n",
       "      <td>19</td>\n",
       "    </tr>\n",
       "    <tr>\n",
       "      <th>8</th>\n",
       "      <td>Sitagliptin</td>\n",
       "      <td>19</td>\n",
       "    </tr>\n",
       "    <tr>\n",
       "      <th>9</th>\n",
       "      <td>Tadalafil</td>\n",
       "      <td>19</td>\n",
       "    </tr>\n",
       "    <tr>\n",
       "      <th>10</th>\n",
       "      <td>Carvedilol</td>\n",
       "      <td>19</td>\n",
       "    </tr>\n",
       "    <tr>\n",
       "      <th>11</th>\n",
       "      <td>Celecoxib</td>\n",
       "      <td>19</td>\n",
       "    </tr>\n",
       "    <tr>\n",
       "      <th>12</th>\n",
       "      <td>Duloxetine</td>\n",
       "      <td>19</td>\n",
       "    </tr>\n",
       "    <tr>\n",
       "      <th>13</th>\n",
       "      <td>Eltrombopag</td>\n",
       "      <td>19</td>\n",
       "    </tr>\n",
       "    <tr>\n",
       "      <th>14</th>\n",
       "      <td>Metformin</td>\n",
       "      <td>19</td>\n",
       "    </tr>\n",
       "    <tr>\n",
       "      <th>15</th>\n",
       "      <td>Montelukast</td>\n",
       "      <td>19</td>\n",
       "    </tr>\n",
       "    <tr>\n",
       "      <th>16</th>\n",
       "      <td>Mycophenolate</td>\n",
       "      <td>19</td>\n",
       "    </tr>\n",
       "    <tr>\n",
       "      <th>17</th>\n",
       "      <td>Omeprazole</td>\n",
       "      <td>19</td>\n",
       "    </tr>\n",
       "    <tr>\n",
       "      <th>18</th>\n",
       "      <td>Oseltamivir</td>\n",
       "      <td>19</td>\n",
       "    </tr>\n",
       "    <tr>\n",
       "      <th>19</th>\n",
       "      <td>Pantaprazole</td>\n",
       "      <td>19</td>\n",
       "    </tr>\n",
       "    <tr>\n",
       "      <th>20</th>\n",
       "      <td>Pitavastatin</td>\n",
       "      <td>19</td>\n",
       "    </tr>\n",
       "    <tr>\n",
       "      <th>21</th>\n",
       "      <td>Prednisone</td>\n",
       "      <td>19</td>\n",
       "    </tr>\n",
       "    <tr>\n",
       "      <th>22</th>\n",
       "      <td>Sertraline</td>\n",
       "      <td>19</td>\n",
       "    </tr>\n",
       "  </tbody>\n",
       "</table>\n",
       "</div>"
      ],
      "text/plain": [
       "        Drug Name  count\n",
       "0     Amoxicillin     19\n",
       "1        Apixaban     19\n",
       "2      Aprepitant     19\n",
       "3     Atomoxetine     19\n",
       "4      Calcitriol     19\n",
       "5       Prasugrel     19\n",
       "6        Ramipril     19\n",
       "7     Saxagliptin     19\n",
       "8     Sitagliptin     19\n",
       "9       Tadalafil     19\n",
       "10     Carvedilol     19\n",
       "11      Celecoxib     19\n",
       "12     Duloxetine     19\n",
       "13    Eltrombopag     19\n",
       "14      Metformin     19\n",
       "15    Montelukast     19\n",
       "16  Mycophenolate     19\n",
       "17     Omeprazole     19\n",
       "18    Oseltamivir     19\n",
       "19   Pantaprazole     19\n",
       "20   Pitavastatin     19\n",
       "21     Prednisone     19\n",
       "22     Sertraline     19"
      ]
     },
     "execution_count": 36,
     "metadata": {},
     "output_type": "execute_result"
    }
   ],
   "source": [
    "sample_names = []\n",
    "training_samples = []\n",
    "\n",
    "[training_samples.append(list(train_generator.classes).count(x)) for x in range(0,23)]\n",
    "\n",
    "# Get only drug name, not dosage\n",
    "for x in list(class_names):\n",
    "    drug = x.split()[0]\n",
    "    \n",
    "    if drug == x:\n",
    "        drug = x.split(sep = '_')[0]\n",
    "        \n",
    "    if drug == x:\n",
    "        drug = x.split(sep = '-')[0]\n",
    "    \n",
    "    sample_names.append(drug.capitalize())\n",
    "\n",
    "# plt.pie(training_samples, labels = sample_names)\n",
    "# plt.title('Size of Training Data')\n",
    "# plt.show()\n",
    "    \n",
    "# plt.bar(x = sample_names, height = training_samples)\n",
    "# plt.title('Size of Training Data')\n",
    "# plt.ylabel('Number of Samples (n)')\n",
    "# plt.xlabel('Drug Name')\n",
    "# plt.xticks(rotation='vertical')\n",
    "# plt.show()\n",
    "\n",
    "training_sample_size = pd.DataFrame({'Drug Name': sample_names,\n",
    "                                    'count': training_samples})\n",
    "training_sample_size"
   ]
  },
  {
   "cell_type": "code",
   "execution_count": null,
   "id": "ee8468e3",
   "metadata": {},
   "outputs": [],
   "source": []
  }
 ],
 "metadata": {
  "kernelspec": {
   "display_name": "Python 3 (ipykernel)",
   "language": "python",
   "name": "python3"
  },
  "language_info": {
   "codemirror_mode": {
    "name": "ipython",
    "version": 3
   },
   "file_extension": ".py",
   "mimetype": "text/x-python",
   "name": "python",
   "nbconvert_exporter": "python",
   "pygments_lexer": "ipython3",
   "version": "3.11.5"
  }
 },
 "nbformat": 4,
 "nbformat_minor": 5
}
